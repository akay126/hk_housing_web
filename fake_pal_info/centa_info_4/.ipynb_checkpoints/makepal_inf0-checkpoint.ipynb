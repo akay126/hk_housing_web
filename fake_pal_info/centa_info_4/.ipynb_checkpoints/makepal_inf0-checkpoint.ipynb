{
 "cells": [
  {
   "cell_type": "code",
   "execution_count": 9,
   "metadata": {},
   "outputs": [],
   "source": [
    "import pandas as pd\n",
    "\n",
    "fake = 11\n",
    "import shutil, errno\n",
    "f = open('list_dl.csv','r')\n",
    "list_dl = list(map(lambda x: x.strip(),list(f)))\n",
    "f.close()\n",
    "list_dl\n",
    "\n",
    "def copyanything(src, dst):\n",
    "    try:\n",
    "        shutil.copytree(src, dst)\n",
    "    except OSError as exc: # python >2.5\n",
    "        if exc.errno == errno.ENOTDIR:\n",
    "            shutil.copy(src, dst)\n",
    "        else: raise\n",
    "\n",
    "all_rm = list_dl\n",
    "a = int(len(all_rm)/(fake-1))  \n",
    "for i in range(1,fake):\n",
    "    copyanything('centa_info', 'centa_info_{}'.format(i))\n",
    "    s = a*i-a\n",
    "    e = a*i\n",
    "    part_rm = all_rm[s:e]\n",
    "    part_rm.to_csv('centa_info_{}/list_dl.csv'.format(i))"
   ]
  },
  {
   "cell_type": "code",
   "execution_count": 5,
   "metadata": {},
   "outputs": [
    {
     "name": "stdout",
     "output_type": "stream",
     "text": [
      "0\n",
      "2715\n"
     ]
    }
   ],
   "source": [
    "all_rm = list_dl\n",
    "a = int(len(all_rm)/10)   \n",
    "print(a*1-a)\n",
    "print (a*1)"
   ]
  },
  {
   "cell_type": "code",
   "execution_count": 52,
   "metadata": {},
   "outputs": [
    {
     "data": {
      "text/plain": [
       "15330"
      ]
     },
     "execution_count": 52,
     "metadata": {},
     "output_type": "execute_result"
    }
   ],
   "source": [
    "int(len(all_rm)/(26-1))\n"
   ]
  },
  {
   "cell_type": "code",
   "execution_count": 53,
   "metadata": {},
   "outputs": [
    {
     "ename": "NameError",
     "evalue": "name 'part_rm' is not defined",
     "output_type": "error",
     "traceback": [
      "\u001b[1;31m---------------------------------------------------------------------------\u001b[0m",
      "\u001b[1;31mNameError\u001b[0m                                 Traceback (most recent call last)",
      "\u001b[1;32m<ipython-input-53-51e582583901>\u001b[0m in \u001b[0;36m<module>\u001b[1;34m\u001b[0m\n\u001b[1;32m----> 1\u001b[1;33m \u001b[0mpart_rm\u001b[0m\u001b[1;33m.\u001b[0m\u001b[0mto_csv\u001b[0m\u001b[1;33m(\u001b[0m\u001b[1;34m'centa_ajax_{}/df_rm.csv'\u001b[0m\u001b[1;33m.\u001b[0m\u001b[0mformat\u001b[0m\u001b[1;33m(\u001b[0m\u001b[0mi\u001b[0m\u001b[1;33m)\u001b[0m\u001b[1;33m)\u001b[0m\u001b[1;33m\u001b[0m\u001b[0m\n\u001b[0m",
      "\u001b[1;31mNameError\u001b[0m: name 'part_rm' is not defined"
     ]
    }
   ],
   "source": [
    "part_rm.to_csv('centa_ajax_{}/df_rm.csv'.format(i))\n"
   ]
  },
  {
   "cell_type": "code",
   "execution_count": 3,
   "metadata": {},
   "outputs": [
    {
     "data": {
      "text/plain": [
       "27150"
      ]
     },
     "execution_count": 3,
     "metadata": {},
     "output_type": "execute_result"
    }
   ],
   "source": [
    "len(list_dl)"
   ]
  }
 ],
 "metadata": {
  "kernelspec": {
   "display_name": "Python 3",
   "language": "python",
   "name": "python3"
  },
  "language_info": {
   "codemirror_mode": {
    "name": "ipython",
    "version": 3
   },
   "file_extension": ".py",
   "mimetype": "text/x-python",
   "name": "python",
   "nbconvert_exporter": "python",
   "pygments_lexer": "ipython3",
   "version": "3.6.6"
  }
 },
 "nbformat": 4,
 "nbformat_minor": 2
}
