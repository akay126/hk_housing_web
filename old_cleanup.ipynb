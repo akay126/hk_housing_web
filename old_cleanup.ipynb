{
 "cells": [
  {
   "cell_type": "code",
   "execution_count": 3,
   "metadata": {},
   "outputs": [],
   "source": [
    "import pandas as pd\n",
    "\n",
    "list_code = pd.read_csv('centa_part/ss/centa_code.csv')\n",
    "# list_code.index = list_code['flat_code']\n"
   ]
  },
  {
   "cell_type": "code",
   "execution_count": 5,
   "metadata": {},
   "outputs": [
    {
     "name": "stdout",
     "output_type": "stream",
     "text": [
      "1\n",
      "2\n",
      "3\n",
      "4\n",
      "5\n",
      "6\n",
      "7\n",
      "8\n",
      "9\n",
      "10\n",
      "11\n",
      "12\n",
      "13\n",
      "14\n",
      "15\n"
     ]
    }
   ],
   "source": [
    "d={}\n",
    "temp = pd.DataFrame(columns=['Address', 'Date', 'Gross_Area', 'Gross_Price_Area', 'Price','Saleable_Area', 'Saleable_Price_Area', 'flat_code', 'Block', 'Name','Phase', 'bldg_code'])\n",
    "for x in range(1,16):\n",
    "    \n",
    "    d[\"temp{0}\".format(x)]= pd.read_csv('centa_fake_pal_old/centa_part_{}/ss/Centa_Part.csv'.format(x))    \n",
    "    d[\"temp{0}\".format(x)] = d[\"temp{0}\".format(x)][['Address', 'Date', 'Gross_Area', 'Gross_Price_Area', 'Price','Saleable_Area', 'Saleable_Price_Area', 'flat_code']]\n",
    "#     d[\"temp{0}\".format(x)].index = d[\"temp{0}\".format(x)]['flat_code']\n",
    "    d[\"temp{0}\".format(x)]['Gross_Area'] = d[\"temp{0}\".format(x)]['Gross_Area'].astype(object)\n",
    "    d[\"temp{0}\".format(x)] = pd.merge(d[\"temp{0}\".format(x)],list_code, how='inner', on = 'flat_code')\n",
    "    temp = pd.merge(temp,d[\"temp{0}\".format(x)], how= 'outer')   \n",
    "    print(x)\n",
    "    \n",
    "    "
   ]
  },
  {
   "cell_type": "code",
   "execution_count": null,
   "metadata": {},
   "outputs": [],
   "source": [
    "len(temp['flat_code'].unique())"
   ]
  },
  {
   "cell_type": "code",
   "execution_count": null,
   "metadata": {},
   "outputs": [],
   "source": [
    "d[\"temp{0}\".format(x)].columns"
   ]
  },
  {
   "cell_type": "code",
   "execution_count": 6,
   "metadata": {},
   "outputs": [
    {
     "name": "stdout",
     "output_type": "stream",
     "text": [
      "1\n",
      "2\n",
      "3\n",
      "4\n",
      "14\n",
      "15\n"
     ]
    }
   ],
   "source": [
    "df={}\n",
    "temp1 = pd.DataFrame(columns=['Address', 'Date', 'Gross_Area', 'Gross_Price_Area', 'Price','Saleable_Area', 'Saleable_Price_Area', 'flat_code', 'Block', 'Name','Phase', 'bldg_code'])\n",
    "for x in 1,2,3,4,14,15:\n",
    "    \n",
    "    df[\"temp{0}\".format(x)]= pd.read_csv('centa_fake_pal_old/centa_part_{}/ss/Centa_Part - Copy.csv'.format(x))    \n",
    "    df[\"temp{0}\".format(x)] = df[\"temp{0}\".format(x)][['Address', 'Date', 'Gross_Area', 'Gross_Price_Area', 'Price','Saleable_Area', 'Saleable_Price_Area', 'flat_code']]\n",
    "#     df[\"temp{0}\".format(x)].index = d[\"temp{0}\".format(x)]['flat_code']\n",
    "    df[\"temp{0}\".format(x)]['Gross_Area'] = df[\"temp{0}\".format(x)]['Gross_Area'].astype(object)\n",
    "    df[\"temp{0}\".format(x)] = pd.merge(df[\"temp{0}\".format(x)],list_code, how='inner', on ='flat_code')\n",
    "    temp1 = pd.merge(temp,d[\"temp{0}\".format(x)], how= 'outer')   \n",
    "    print(x)  \n",
    "    "
   ]
  },
  {
   "cell_type": "code",
   "execution_count": 7,
   "metadata": {},
   "outputs": [],
   "source": [
    "centa_cleaned = pd.merge(temp,temp1)"
   ]
  },
  {
   "cell_type": "code",
   "execution_count": null,
   "metadata": {},
   "outputs": [],
   "source": [
    "centa_cleaned.to_csv('centa_clean.csv', index = False)"
   ]
  },
  {
   "cell_type": "code",
   "execution_count": 8,
   "metadata": {},
   "outputs": [],
   "source": [
    "code_all = list_code[['bldg_code','flat_code']]\n",
    "code_done = centa_cleaned[['bldg_code','flat_code']]\n",
    "\n",
    "df_rm = code_all[~code_all.flat_code.isin(code_done.flat_code)]"
   ]
  },
  {
   "cell_type": "code",
   "execution_count": 46,
   "metadata": {},
   "outputs": [
    {
     "data": {
      "text/plain": [
       "6160"
      ]
     },
     "execution_count": 46,
     "metadata": {},
     "output_type": "execute_result"
    }
   ],
   "source": [
    "len(df_rm['bldg_code'].unique())"
   ]
  },
  {
   "cell_type": "code",
   "execution_count": 15,
   "metadata": {},
   "outputs": [],
   "source": [
    "df_rm.to_csv('df_rm.csv', index = False)"
   ]
  },
  {
   "cell_type": "code",
   "execution_count": 4,
   "metadata": {},
   "outputs": [],
   "source": [
    "df_rm =pd.read_csv(\"df_rm.csv\")"
   ]
  },
  {
   "cell_type": "code",
   "execution_count": 20,
   "metadata": {},
   "outputs": [],
   "source": [
    "bldg_code = pd.DataFrame((df_rm['bldg_code'].unique()),columns=[\"bldg_code\"])"
   ]
  },
  {
   "cell_type": "code",
   "execution_count": 21,
   "metadata": {},
   "outputs": [],
   "source": [
    "bldg_code.to_csv('bldg_code.csv',index=False)"
   ]
  }
 ],
 "metadata": {
  "kernelspec": {
   "display_name": "Python 3",
   "language": "python",
   "name": "python3"
  },
  "language_info": {
   "codemirror_mode": {
    "name": "ipython",
    "version": 3
   },
   "file_extension": ".py",
   "mimetype": "text/x-python",
   "name": "python",
   "nbconvert_exporter": "python",
   "pygments_lexer": "ipython3",
   "version": "3.6.6"
  }
 },
 "nbformat": 4,
 "nbformat_minor": 2
}
